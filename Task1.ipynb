{
 "cells": [
  {
   "cell_type": "code",
   "execution_count": null,
   "metadata": {},
   "outputs": [],
   "source": [
    "##        ASSIGNMENT 1: DATA CLEANING AND SUMMARISING       ##\n",
    "##                   STUDENT NAME : SURAJ KANNAN\n",
    "##                       STUDENT ID: S3668855"
   ]
  },
  {
   "cell_type": "code",
   "execution_count": 1,
   "metadata": {},
   "outputs": [],
   "source": []
  },
  {
   "cell_type": "code",
   "execution_count": 2,
   "metadata": {},
   "outputs": [],
   "source": [
    "#IMPORTING PANDAS AND NUMPY \n",
    "import pandas as pd\n",
    "import numpy as np"
   ]
  },
  {
   "cell_type": "code",
   "execution_count": 3,
   "metadata": {},
   "outputs": [],
   "source": [
    "## LOADING THE BANK.CSV FILE\n",
    "bank_var1='D:\\Downloads\\\\Bank.csv'\n",
    "bank=pd.read_csv(bank_var1, sep=';', decimal='.', header=0)"
   ]
  },
  {
   "cell_type": "code",
   "execution_count": 4,
   "metadata": {},
   "outputs": [
    {
     "data": {
      "text/plain": [
       "age               float64\n",
       "job                object\n",
       "marital            object\n",
       "education          object\n",
       "default            object\n",
       "housing            object\n",
       "loan               object\n",
       "contact            object\n",
       "month              object\n",
       "day_of_week        object\n",
       "duration          float64\n",
       "campaign          float64\n",
       "pdays              object\n",
       "previous           object\n",
       "poutcome           object\n",
       "emp.var.rate       object\n",
       "cons.price.idx    float64\n",
       "cons.conf.idx     float64\n",
       "euribor3m          object\n",
       "nr.employed        object\n",
       "y                  object\n",
       "dtype: object"
      ]
     },
     "execution_count": 4,
     "metadata": {},
     "output_type": "execute_result"
    }
   ],
   "source": [
    "#DISPLAYING THE DATA TYPES OF THE COLUMNS\n",
    "bank.dtypes"
   ]
  },
  {
   "cell_type": "code",
   "execution_count": 5,
   "metadata": {},
   "outputs": [
    {
     "data": {
      "text/plain": [
       "Index([u'age', u'job', u'marital', u'education', u'default', u'housing',\n",
       "       u'loan', u'contact', u'month', u'day_of_week', u'duration', u'campaign',\n",
       "       u'pdays', u'previous', u'poutcome', u'emp.var.rate', u'cons.price.idx',\n",
       "       u'cons.conf.idx', u'euribor3m', u'nr.employed', u'y'],\n",
       "      dtype='object')"
      ]
     },
     "execution_count": 5,
     "metadata": {},
     "output_type": "execute_result"
    }
   ],
   "source": [
    "#DISPLAYING THE COLUMN NAMES \n",
    "bank.columns"
   ]
  },
  {
   "cell_type": "code",
   "execution_count": 6,
   "metadata": {},
   "outputs": [
    {
     "name": "stderr",
     "output_type": "stream",
     "text": [
      "C:\\Users\\jayar\\Anaconda2\\lib\\site-packages\\ipykernel_launcher.py:1: FutureWarning: convert_objects is deprecated.  To re-infer data dtypes for object columns, use Series.infer_objects()\n",
      "For all other conversions use the data-type specific converters pd.to_datetime, pd.to_timedelta and pd.to_numeric.\n",
      "  \"\"\"Entry point for launching an IPython kernel.\n"
     ]
    }
   ],
   "source": [
    "##CONVERTING THE DATA TYPE OF 'PDAYS' TO NUMERIC\n",
    "bank['pdays'] = bank['pdays'].convert_objects(convert_numeric=True)"
   ]
  },
  {
   "cell_type": "code",
   "execution_count": 7,
   "metadata": {},
   "outputs": [
    {
     "name": "stderr",
     "output_type": "stream",
     "text": [
      "C:\\Users\\jayar\\Anaconda2\\lib\\site-packages\\ipykernel_launcher.py:1: FutureWarning: convert_objects is deprecated.  To re-infer data dtypes for object columns, use Series.infer_objects()\n",
      "For all other conversions use the data-type specific converters pd.to_datetime, pd.to_timedelta and pd.to_numeric.\n",
      "  \"\"\"Entry point for launching an IPython kernel.\n"
     ]
    }
   ],
   "source": [
    "##CONVERTING THE DATA TYPE OF 'previous' TO NUMERIC\n",
    "bank['previous'] = bank['previous'].convert_objects(convert_numeric=True)"
   ]
  },
  {
   "cell_type": "code",
   "execution_count": 8,
   "metadata": {},
   "outputs": [
    {
     "name": "stderr",
     "output_type": "stream",
     "text": [
      "C:\\Users\\jayar\\Anaconda2\\lib\\site-packages\\ipykernel_launcher.py:1: FutureWarning: convert_objects is deprecated.  To re-infer data dtypes for object columns, use Series.infer_objects()\n",
      "For all other conversions use the data-type specific converters pd.to_datetime, pd.to_timedelta and pd.to_numeric.\n",
      "  \"\"\"Entry point for launching an IPython kernel.\n"
     ]
    }
   ],
   "source": [
    "##CONVERTING THE DATA TYPE OF 'emp.var.rate' TO NUMERIC\n",
    "bank['emp.var.rate'] = bank['emp.var.rate'].convert_objects(convert_numeric=True)"
   ]
  },
  {
   "cell_type": "code",
   "execution_count": 9,
   "metadata": {},
   "outputs": [
    {
     "name": "stderr",
     "output_type": "stream",
     "text": [
      "C:\\Users\\jayar\\Anaconda2\\lib\\site-packages\\ipykernel_launcher.py:1: FutureWarning: convert_objects is deprecated.  To re-infer data dtypes for object columns, use Series.infer_objects()\n",
      "For all other conversions use the data-type specific converters pd.to_datetime, pd.to_timedelta and pd.to_numeric.\n",
      "  \"\"\"Entry point for launching an IPython kernel.\n"
     ]
    }
   ],
   "source": [
    "##CONVERTING THE DATA TYPE OF 'euribor3m' TO NUMERIC\n",
    "bank['euribor3m'] = bank['euribor3m'].convert_objects(convert_numeric=True)"
   ]
  },
  {
   "cell_type": "code",
   "execution_count": 10,
   "metadata": {},
   "outputs": [
    {
     "name": "stderr",
     "output_type": "stream",
     "text": [
      "C:\\Users\\jayar\\Anaconda2\\lib\\site-packages\\ipykernel_launcher.py:1: FutureWarning: convert_objects is deprecated.  To re-infer data dtypes for object columns, use Series.infer_objects()\n",
      "For all other conversions use the data-type specific converters pd.to_datetime, pd.to_timedelta and pd.to_numeric.\n",
      "  \"\"\"Entry point for launching an IPython kernel.\n"
     ]
    }
   ],
   "source": [
    "##CONVERTING THE DATA TYPE OF 'nr.employed' TO NUMERIC\n",
    "bank['nr.employed'] = bank['nr.employed'].convert_objects(convert_numeric=True)"
   ]
  },
  {
   "cell_type": "code",
   "execution_count": 11,
   "metadata": {},
   "outputs": [
    {
     "data": {
      "text/plain": [
       "age               float64\n",
       "job                object\n",
       "marital            object\n",
       "education          object\n",
       "default            object\n",
       "housing            object\n",
       "loan               object\n",
       "contact            object\n",
       "month              object\n",
       "day_of_week        object\n",
       "duration          float64\n",
       "campaign          float64\n",
       "pdays             float64\n",
       "previous          float64\n",
       "poutcome           object\n",
       "emp.var.rate      float64\n",
       "cons.price.idx    float64\n",
       "cons.conf.idx     float64\n",
       "euribor3m         float64\n",
       "nr.employed       float64\n",
       "y                  object\n",
       "dtype: object"
      ]
     },
     "execution_count": 11,
     "metadata": {},
     "output_type": "execute_result"
    }
   ],
   "source": [
    "#DISPLAYING BANK DATA TYPES\n",
    "bank.dtypes"
   ]
  },
  {
   "cell_type": "code",
   "execution_count": 12,
   "metadata": {},
   "outputs": [
    {
     "data": {
      "text/plain": [
       "array(['blue-collar', 'services', 'admin.', 'entrepreneur',\n",
       "       'self-employed', 'technician', 'management', 'student', 'retired',\n",
       "       'housemaid', 'unemployed', 'unknown'], dtype=object)"
      ]
     },
     "execution_count": 12,
     "metadata": {},
     "output_type": "execute_result"
    }
   ],
   "source": [
    "#DISPLAYING UNIQUE VALUES\n",
    "bank.job.unique()"
   ]
  },
  {
   "cell_type": "code",
   "execution_count": 13,
   "metadata": {},
   "outputs": [],
   "source": [
    "#REPLACING THE TYPO \n",
    "bank.job.replace('admin.', 'admin', inplace=True)"
   ]
  },
  {
   "cell_type": "code",
   "execution_count": 14,
   "metadata": {},
   "outputs": [
    {
     "data": {
      "text/plain": [
       "array(['blue-collar', 'services', 'admin', 'entrepreneur',\n",
       "       'self-employed', 'technician', 'management', 'student', 'retired',\n",
       "       'housemaid', 'unemployed', 'unknown'], dtype=object)"
      ]
     },
     "execution_count": 14,
     "metadata": {},
     "output_type": "execute_result"
    }
   ],
   "source": [
    "#DISPLAYING UNIQUE VALUES\n",
    "bank.job.unique()"
   ]
  },
  {
   "cell_type": "code",
   "execution_count": 15,
   "metadata": {},
   "outputs": [
    {
     "data": {
      "text/plain": [
       "array(['married', 'single', 'divorced', 'unknown',\n",
       "       'divorceded\\xe2\\x80\\x9d;\\xe2\\x80\\x9dbasic.9y'], dtype=object)"
      ]
     },
     "execution_count": 15,
     "metadata": {},
     "output_type": "execute_result"
    }
   ],
   "source": [
    "#DISPLAYING UNIQUE VALUES\n",
    "bank.marital.unique()"
   ]
  },
  {
   "cell_type": "code",
   "execution_count": 16,
   "metadata": {},
   "outputs": [
    {
     "data": {
      "text/plain": [
       "4119"
      ]
     },
     "execution_count": 16,
     "metadata": {},
     "output_type": "execute_result"
    }
   ],
   "source": [
    "#DISPLAYING TOTAL COUNT\n",
    "bank.marital.count()"
   ]
  },
  {
   "cell_type": "code",
   "execution_count": 17,
   "metadata": {},
   "outputs": [
    {
     "data": {
      "text/plain": [
       "married                  2509\n",
       "single                   1153\n",
       "divorced                  445\n",
       "unknown                    11\n",
       "divorceded”;”basic.9y       1\n",
       "Name: marital, dtype: int64"
      ]
     },
     "execution_count": 17,
     "metadata": {},
     "output_type": "execute_result"
    }
   ],
   "source": [
    "#DISPLAYING COUNT IF EACH ARGUMENT\n",
    "bank['marital'].value_counts()"
   ]
  },
  {
   "cell_type": "code",
   "execution_count": 18,
   "metadata": {},
   "outputs": [
    {
     "data": {
      "text/plain": [
       "(array([650], dtype=int64),)"
      ]
     },
     "execution_count": 18,
     "metadata": {},
     "output_type": "execute_result"
    }
   ],
   "source": [
    "#LOCATING THE VALUE\n",
    "np.where(bank.marital==\"divorceded\\xe2\\x80\\x9d;\\xe2\\x80\\x9dbasic.9y\")"
   ]
  },
  {
   "cell_type": "code",
   "execution_count": 19,
   "metadata": {},
   "outputs": [
    {
     "data": {
      "text/plain": [
       "age                                  41\n",
       "job                         blue-collar\n",
       "marital           divorceded”;”basic.9y\n",
       "education                            no\n",
       "default                             yes\n",
       "housing                              no\n",
       "loan                           cellular\n",
       "contact                             may\n",
       "month                               thu\n",
       "day_of_week                         102\n",
       "duration                              1\n",
       "campaign                            999\n",
       "pdays                                 0\n",
       "previous                            NaN\n",
       "poutcome                           -1.8\n",
       "emp.var.rate                     92.893\n",
       "cons.price.idx                    -46.2\n",
       "cons.conf.idx                     1.327\n",
       "euribor3m                        5099.1\n",
       "nr.employed                         NaN\n",
       "y                                   NaN\n",
       "Name: 650, dtype: object"
      ]
     },
     "execution_count": 19,
     "metadata": {},
     "output_type": "execute_result"
    }
   ],
   "source": [
    "#DISPLAYING THE VALUES OF THE ATTRIBUTE\n",
    "bank.loc[650]"
   ]
  },
  {
   "cell_type": "code",
   "execution_count": 20,
   "metadata": {},
   "outputs": [
    {
     "name": "stderr",
     "output_type": "stream",
     "text": [
      "C:\\Users\\jayar\\Anaconda2\\lib\\site-packages\\ipykernel_launcher.py:1: DeprecationWarning: \n",
      ".ix is deprecated. Please use\n",
      ".loc for label based indexing or\n",
      ".iloc for positional indexing\n",
      "\n",
      "See the documentation here:\n",
      "http://pandas.pydata.org/pandas-docs/stable/indexing.html#ix-indexer-is-deprecated\n",
      "  \"\"\"Entry point for launching an IPython kernel.\n"
     ]
    }
   ],
   "source": [
    "#CREATING A SEBSET \n",
    "a=bank.ix[650,3:21]"
   ]
  },
  {
   "cell_type": "code",
   "execution_count": 21,
   "metadata": {},
   "outputs": [
    {
     "data": {
      "text/plain": [
       "education               no\n",
       "default                yes\n",
       "housing                 no\n",
       "loan              cellular\n",
       "contact                may\n",
       "month                  thu\n",
       "day_of_week            102\n",
       "duration                 1\n",
       "campaign               999\n",
       "pdays                    0\n",
       "previous               NaN\n",
       "poutcome              -1.8\n",
       "emp.var.rate        92.893\n",
       "cons.price.idx       -46.2\n",
       "cons.conf.idx        1.327\n",
       "euribor3m           5099.1\n",
       "nr.employed            NaN\n",
       "y                      NaN\n",
       "Name: 650, dtype: object"
      ]
     },
     "execution_count": 21,
     "metadata": {},
     "output_type": "execute_result"
    }
   ],
   "source": [
    "#DISPLAYING THE SUBSET\n",
    "a"
   ]
  },
  {
   "cell_type": "code",
   "execution_count": 22,
   "metadata": {},
   "outputs": [],
   "source": [
    "#SHIFTING THE AXIS BY ONE ENTRTY\n",
    "a=a.shift(1,axis=0)"
   ]
  },
  {
   "cell_type": "code",
   "execution_count": 23,
   "metadata": {},
   "outputs": [],
   "source": [
    "#ASSIGNING A VALUE MANUALLY\n",
    "a.education=\"basic.9y\""
   ]
  },
  {
   "cell_type": "code",
   "execution_count": 24,
   "metadata": {},
   "outputs": [
    {
     "data": {
      "text/plain": [
       "education         basic.9y\n",
       "default                 no\n",
       "housing                yes\n",
       "loan                    no\n",
       "contact           cellular\n",
       "month                  may\n",
       "day_of_week            thu\n",
       "duration               102\n",
       "campaign                 1\n",
       "pdays                  999\n",
       "previous                 0\n",
       "poutcome               NaN\n",
       "emp.var.rate          -1.8\n",
       "cons.price.idx      92.893\n",
       "cons.conf.idx        -46.2\n",
       "euribor3m            1.327\n",
       "nr.employed         5099.1\n",
       "y                      NaN\n",
       "Name: 650, dtype: object"
      ]
     },
     "execution_count": 24,
     "metadata": {},
     "output_type": "execute_result"
    }
   ],
   "source": [
    "a"
   ]
  },
  {
   "cell_type": "code",
   "execution_count": 25,
   "metadata": {},
   "outputs": [],
   "source": [
    "#CREATING A SUBSET\n",
    "bank.ix[650,3:21]=a"
   ]
  },
  {
   "cell_type": "code",
   "execution_count": 26,
   "metadata": {},
   "outputs": [],
   "source": [
    "#REPLACING THE TYPO WITH THE CORRECT VALUE\n",
    "bank['marital'].replace('divorceded\\xe2\\x80\\x9d;\\xe2\\x80\\x9dbasic.9y', 'divorced', inplace=True)"
   ]
  },
  {
   "cell_type": "code",
   "execution_count": 27,
   "metadata": {},
   "outputs": [
    {
     "data": {
      "text/plain": [
       "married     2509\n",
       "single      1153\n",
       "divorced     446\n",
       "unknown       11\n",
       "Name: marital, dtype: int64"
      ]
     },
     "execution_count": 27,
     "metadata": {},
     "output_type": "execute_result"
    }
   ],
   "source": [
    "#COUNTING THE NUMBER OF VALUES IN MARITAL ATTRIBUTE\n",
    "bank['marital'].value_counts()"
   ]
  },
  {
   "cell_type": "code",
   "execution_count": 28,
   "metadata": {},
   "outputs": [
    {
     "data": {
      "text/plain": [
       "age                        41\n",
       "job               blue-collar\n",
       "marital              divorced\n",
       "education            basic.9y\n",
       "default                    no\n",
       "housing                   yes\n",
       "loan                       no\n",
       "contact              cellular\n",
       "month                     may\n",
       "day_of_week               thu\n",
       "duration                  102\n",
       "campaign                    1\n",
       "pdays                     999\n",
       "previous                    0\n",
       "poutcome                  NaN\n",
       "emp.var.rate             -1.8\n",
       "cons.price.idx         92.893\n",
       "cons.conf.idx           -46.2\n",
       "euribor3m               1.327\n",
       "nr.employed            5099.1\n",
       "y                         NaN\n",
       "Name: 650, dtype: object"
      ]
     },
     "execution_count": 28,
     "metadata": {},
     "output_type": "execute_result"
    }
   ],
   "source": [
    "#DISPLAYING THE VALIUE IN THE LOACTION \n",
    "bank.loc[650]"
   ]
  },
  {
   "cell_type": "code",
   "execution_count": 29,
   "metadata": {},
   "outputs": [
    {
     "data": {
      "text/plain": [
       "array(['basic.9y', 'high.school', 'university.degree',\n",
       "       'professional.course', 'basic.6y', 'basic.4y', 'unknown',\n",
       "       'basic.6yes\\xe2\\x80\\x9d;\\xe2\\x80\\x9dno', 'illiterate'],\n",
       "      dtype=object)"
      ]
     },
     "execution_count": 29,
     "metadata": {},
     "output_type": "execute_result"
    }
   ],
   "source": [
    "#DISPLAYING UNIQUE VALUES\n",
    "bank.education.unique()"
   ]
  },
  {
   "cell_type": "code",
   "execution_count": 30,
   "metadata": {},
   "outputs": [
    {
     "data": {
      "text/plain": [
       "(array([574], dtype=int64),)"
      ]
     },
     "execution_count": 30,
     "metadata": {},
     "output_type": "execute_result"
    }
   ],
   "source": [
    "#LOCATING THE \"NAN\" VALUE\n",
    "np.where(bank.education==\"basic.6yes\\xe2\\x80\\x9d;\\xe2\\x80\\x9dno\")"
   ]
  },
  {
   "cell_type": "code",
   "execution_count": 31,
   "metadata": {},
   "outputs": [
    {
     "data": {
      "text/plain": [
       "age                            47\n",
       "job                   blue-collar\n",
       "marital                   married\n",
       "education         basic.6yes”;”no\n",
       "default                yess”;”yes\n",
       "housing                  cellular\n",
       "loan                          jul\n",
       "contact                       mon\n",
       "month                         298\n",
       "day_of_week                     3\n",
       "duration                      999\n",
       "campaign                        0\n",
       "pdays                         NaN\n",
       "previous                      1.4\n",
       "poutcome                   93.918\n",
       "emp.var.rate                -42.7\n",
       "cons.price.idx              4.962\n",
       "cons.conf.idx              5228.1\n",
       "euribor3m                     NaN\n",
       "nr.employed                   NaN\n",
       "y                             NaN\n",
       "Name: 574, dtype: object"
      ]
     },
     "execution_count": 31,
     "metadata": {},
     "output_type": "execute_result"
    }
   ],
   "source": [
    "#DISPLAYING THE VALUES IN THE LOCATION\n",
    "bank.loc[574]"
   ]
  },
  {
   "cell_type": "code",
   "execution_count": 32,
   "metadata": {},
   "outputs": [],
   "source": [
    "# CREATING A SUBSET B\n",
    "b=bank.ix[574,5:21]"
   ]
  },
  {
   "cell_type": "code",
   "execution_count": 33,
   "metadata": {},
   "outputs": [
    {
     "data": {
      "text/plain": [
       "housing           cellular\n",
       "loan                   jul\n",
       "contact                mon\n",
       "month                  298\n",
       "day_of_week              3\n",
       "duration               999\n",
       "campaign                 0\n",
       "pdays                  NaN\n",
       "previous               1.4\n",
       "poutcome            93.918\n",
       "emp.var.rate         -42.7\n",
       "cons.price.idx       4.962\n",
       "cons.conf.idx       5228.1\n",
       "euribor3m              NaN\n",
       "nr.employed            NaN\n",
       "y                      NaN\n",
       "Name: 574, dtype: object"
      ]
     },
     "execution_count": 33,
     "metadata": {},
     "output_type": "execute_result"
    }
   ],
   "source": [
    "#DISPLAYING B\n",
    "b"
   ]
  },
  {
   "cell_type": "code",
   "execution_count": 34,
   "metadata": {},
   "outputs": [],
   "source": [
    "#SHIFTING THE AXIS OF THE ENTRIES IN B\n",
    "b=b.shift(2,axis=0)"
   ]
  },
  {
   "cell_type": "code",
   "execution_count": 35,
   "metadata": {},
   "outputs": [
    {
     "data": {
      "text/plain": [
       "housing                NaN\n",
       "loan                   NaN\n",
       "contact           cellular\n",
       "month                  jul\n",
       "day_of_week            mon\n",
       "duration               298\n",
       "campaign                 3\n",
       "pdays                  999\n",
       "previous                 0\n",
       "poutcome               NaN\n",
       "emp.var.rate           1.4\n",
       "cons.price.idx      93.918\n",
       "cons.conf.idx        -42.7\n",
       "euribor3m            4.962\n",
       "nr.employed         5228.1\n",
       "y                      NaN\n",
       "Name: 574, dtype: object"
      ]
     },
     "execution_count": 35,
     "metadata": {},
     "output_type": "execute_result"
    }
   ],
   "source": [
    "#DISPLAYINHG THE B\n",
    "b"
   ]
  },
  {
   "cell_type": "code",
   "execution_count": 36,
   "metadata": {},
   "outputs": [],
   "source": [
    "#ASSIGNING THE VALUES MANUALLY\n",
    "b.housing=\"yes\"\n",
    "b.loan=\"yes\""
   ]
  },
  {
   "cell_type": "code",
   "execution_count": 37,
   "metadata": {},
   "outputs": [],
   "source": [
    "bank.ix[574,5:21]=b"
   ]
  },
  {
   "cell_type": "code",
   "execution_count": 38,
   "metadata": {},
   "outputs": [
    {
     "data": {
      "text/plain": [
       "age                            47\n",
       "job                   blue-collar\n",
       "marital                   married\n",
       "education         basic.6yes”;”no\n",
       "default                yess”;”yes\n",
       "housing                       yes\n",
       "loan                          yes\n",
       "contact                  cellular\n",
       "month                         jul\n",
       "day_of_week                   mon\n",
       "duration                      298\n",
       "campaign                        3\n",
       "pdays                         999\n",
       "previous                        0\n",
       "poutcome                      NaN\n",
       "emp.var.rate                  1.4\n",
       "cons.price.idx             93.918\n",
       "cons.conf.idx               -42.7\n",
       "euribor3m                   4.962\n",
       "nr.employed                5228.1\n",
       "y                             NaN\n",
       "Name: 574, dtype: object"
      ]
     },
     "execution_count": 38,
     "metadata": {},
     "output_type": "execute_result"
    }
   ],
   "source": [
    "bank.loc[574]"
   ]
  },
  {
   "cell_type": "code",
   "execution_count": 39,
   "metadata": {},
   "outputs": [
    {
     "data": {
      "text/plain": [
       "age                            47\n",
       "job                   blue-collar\n",
       "marital                   married\n",
       "education         basic.6yes”;”no\n",
       "default                yess”;”yes\n",
       "housing                       yes\n",
       "loan                          yes\n",
       "contact                  cellular\n",
       "month                         jul\n",
       "day_of_week                   mon\n",
       "duration                      298\n",
       "campaign                        3\n",
       "pdays                         999\n",
       "previous                        0\n",
       "poutcome                      NaN\n",
       "emp.var.rate                  1.4\n",
       "cons.price.idx             93.918\n",
       "cons.conf.idx               -42.7\n",
       "euribor3m                   4.962\n",
       "nr.employed                5228.1\n",
       "y                             NaN\n",
       "Name: 574, dtype: object"
      ]
     },
     "execution_count": 39,
     "metadata": {},
     "output_type": "execute_result"
    }
   ],
   "source": [
    "b=bank.ix[574].copy()\n",
    "b\n"
   ]
  },
  {
   "cell_type": "code",
   "execution_count": 40,
   "metadata": {},
   "outputs": [],
   "source": [
    "b.education=\"basic.6y\"\n",
    "b.default=\"no\"\n",
    "b.campaign=3"
   ]
  },
  {
   "cell_type": "code",
   "execution_count": 41,
   "metadata": {},
   "outputs": [],
   "source": [
    "bank.loc[574]=b"
   ]
  },
  {
   "cell_type": "code",
   "execution_count": 42,
   "metadata": {},
   "outputs": [
    {
     "data": {
      "text/plain": [
       "age                        47\n",
       "job               blue-collar\n",
       "marital               married\n",
       "education            basic.6y\n",
       "default                    no\n",
       "housing                   yes\n",
       "loan                      yes\n",
       "contact              cellular\n",
       "month                     jul\n",
       "day_of_week               mon\n",
       "duration                  298\n",
       "campaign                    3\n",
       "pdays                     999\n",
       "previous                    0\n",
       "poutcome                  NaN\n",
       "emp.var.rate              1.4\n",
       "cons.price.idx         93.918\n",
       "cons.conf.idx           -42.7\n",
       "euribor3m               4.962\n",
       "nr.employed            5228.1\n",
       "y                         NaN\n",
       "Name: 574, dtype: object"
      ]
     },
     "execution_count": 42,
     "metadata": {},
     "output_type": "execute_result"
    }
   ],
   "source": [
    "bank.loc[574]"
   ]
  },
  {
   "cell_type": "code",
   "execution_count": 43,
   "metadata": {},
   "outputs": [
    {
     "data": {
      "text/plain": [
       "array(['basic.9y', 'high.school', 'university.degree',\n",
       "       'professional.course', 'basic.6y', 'basic.4y', 'unknown',\n",
       "       'illiterate'], dtype=object)"
      ]
     },
     "execution_count": 43,
     "metadata": {},
     "output_type": "execute_result"
    }
   ],
   "source": [
    "bank.education.unique()"
   ]
  },
  {
   "cell_type": "code",
   "execution_count": 44,
   "metadata": {},
   "outputs": [
    {
     "data": {
      "text/plain": [
       "array(['no', 'unknown', 'noo\\xe2\\x80\\x9d;\\xe2\\x80\\x9dyes', 'yes'],\n",
       "      dtype=object)"
      ]
     },
     "execution_count": 44,
     "metadata": {},
     "output_type": "execute_result"
    }
   ],
   "source": [
    "bank.default.unique()"
   ]
  },
  {
   "cell_type": "code",
   "execution_count": 45,
   "metadata": {},
   "outputs": [
    {
     "data": {
      "text/plain": [
       "(array([569], dtype=int64),)"
      ]
     },
     "execution_count": 45,
     "metadata": {},
     "output_type": "execute_result"
    }
   ],
   "source": [
    "np.where(bank.default==\"noo\\xe2\\x80\\x9d;\\xe2\\x80\\x9dyes\")"
   ]
  },
  {
   "cell_type": "code",
   "execution_count": 46,
   "metadata": {},
   "outputs": [
    {
     "data": {
      "text/plain": [
       "age                              33\n",
       "job                           admin\n",
       "marital                      single\n",
       "education         university.degree\n",
       "default                   noo”;”yes\n",
       "housing                         yes\n",
       "loan                       cellular\n",
       "contact                         aug\n",
       "month                           tue\n",
       "day_of_week                     275\n",
       "duration                          6\n",
       "campaign                        999\n",
       "pdays                             0\n",
       "previous                        NaN\n",
       "poutcome                        1.4\n",
       "emp.var.rate                 93.444\n",
       "cons.price.idx                -36.1\n",
       "cons.conf.idx                 4.963\n",
       "euribor3m                    5228.1\n",
       "nr.employed                     NaN\n",
       "y                               NaN\n",
       "Name: 569, dtype: object"
      ]
     },
     "execution_count": 46,
     "metadata": {},
     "output_type": "execute_result"
    }
   ],
   "source": [
    "bank.loc[569]"
   ]
  },
  {
   "cell_type": "code",
   "execution_count": 47,
   "metadata": {},
   "outputs": [],
   "source": [
    "c=bank.ix[569,4:21]"
   ]
  },
  {
   "cell_type": "code",
   "execution_count": 48,
   "metadata": {},
   "outputs": [
    {
     "data": {
      "text/plain": [
       "default           noo”;”yes\n",
       "housing                 yes\n",
       "loan               cellular\n",
       "contact                 aug\n",
       "month                   tue\n",
       "day_of_week             275\n",
       "duration                  6\n",
       "campaign                999\n",
       "pdays                     0\n",
       "previous                NaN\n",
       "poutcome                1.4\n",
       "emp.var.rate         93.444\n",
       "cons.price.idx        -36.1\n",
       "cons.conf.idx         4.963\n",
       "euribor3m            5228.1\n",
       "nr.employed             NaN\n",
       "y                       NaN\n",
       "Name: 569, dtype: object"
      ]
     },
     "execution_count": 48,
     "metadata": {},
     "output_type": "execute_result"
    }
   ],
   "source": [
    "c"
   ]
  },
  {
   "cell_type": "code",
   "execution_count": 49,
   "metadata": {},
   "outputs": [],
   "source": [
    "c=c.shift(1,axis=0)"
   ]
  },
  {
   "cell_type": "code",
   "execution_count": 50,
   "metadata": {},
   "outputs": [
    {
     "data": {
      "text/plain": [
       "default                 NaN\n",
       "housing           noo”;”yes\n",
       "loan                    yes\n",
       "contact            cellular\n",
       "month                   aug\n",
       "day_of_week             tue\n",
       "duration                275\n",
       "campaign                  6\n",
       "pdays                   999\n",
       "previous                  0\n",
       "poutcome                NaN\n",
       "emp.var.rate            1.4\n",
       "cons.price.idx       93.444\n",
       "cons.conf.idx         -36.1\n",
       "euribor3m             4.963\n",
       "nr.employed          5228.1\n",
       "y                       NaN\n",
       "Name: 569, dtype: object"
      ]
     },
     "execution_count": 50,
     "metadata": {},
     "output_type": "execute_result"
    }
   ],
   "source": [
    "c"
   ]
  },
  {
   "cell_type": "code",
   "execution_count": 51,
   "metadata": {},
   "outputs": [],
   "source": [
    "c.default='no'\n",
    "c.housing='yes'"
   ]
  },
  {
   "cell_type": "code",
   "execution_count": 52,
   "metadata": {},
   "outputs": [
    {
     "data": {
      "text/plain": [
       "default                 no\n",
       "housing                yes\n",
       "loan                   yes\n",
       "contact           cellular\n",
       "month                  aug\n",
       "day_of_week            tue\n",
       "duration               275\n",
       "campaign                 6\n",
       "pdays                  999\n",
       "previous                 0\n",
       "poutcome               NaN\n",
       "emp.var.rate           1.4\n",
       "cons.price.idx      93.444\n",
       "cons.conf.idx        -36.1\n",
       "euribor3m            4.963\n",
       "nr.employed         5228.1\n",
       "y                      NaN\n",
       "Name: 569, dtype: object"
      ]
     },
     "execution_count": 52,
     "metadata": {},
     "output_type": "execute_result"
    }
   ],
   "source": [
    "c"
   ]
  },
  {
   "cell_type": "code",
   "execution_count": 53,
   "metadata": {},
   "outputs": [],
   "source": [
    "bank.ix[569,4:21]=c"
   ]
  },
  {
   "cell_type": "code",
   "execution_count": 54,
   "metadata": {},
   "outputs": [
    {
     "data": {
      "text/plain": [
       "age                              33\n",
       "job                           admin\n",
       "marital                      single\n",
       "education         university.degree\n",
       "default                          no\n",
       "housing                         yes\n",
       "loan                            yes\n",
       "contact                    cellular\n",
       "month                           aug\n",
       "day_of_week                     tue\n",
       "duration                        275\n",
       "campaign                          6\n",
       "pdays                           999\n",
       "previous                          0\n",
       "poutcome                        NaN\n",
       "emp.var.rate                    1.4\n",
       "cons.price.idx               93.444\n",
       "cons.conf.idx                 -36.1\n",
       "euribor3m                     4.963\n",
       "nr.employed                  5228.1\n",
       "y                               NaN\n",
       "Name: 569, dtype: object"
      ]
     },
     "execution_count": 54,
     "metadata": {},
     "output_type": "execute_result"
    }
   ],
   "source": [
    "bank.loc[569]"
   ]
  },
  {
   "cell_type": "code",
   "execution_count": 55,
   "metadata": {},
   "outputs": [
    {
     "data": {
      "text/plain": [
       "array(['yes', 'no', 'unknown'], dtype=object)"
      ]
     },
     "execution_count": 55,
     "metadata": {},
     "output_type": "execute_result"
    }
   ],
   "source": [
    "bank.housing.unique()"
   ]
  },
  {
   "cell_type": "code",
   "execution_count": 56,
   "metadata": {},
   "outputs": [
    {
     "data": {
      "text/plain": [
       "array(['no', 'unknown', 'yes'], dtype=object)"
      ]
     },
     "execution_count": 56,
     "metadata": {},
     "output_type": "execute_result"
    }
   ],
   "source": [
    "bank.loan.unique()"
   ]
  },
  {
   "cell_type": "code",
   "execution_count": 57,
   "metadata": {},
   "outputs": [
    {
     "data": {
      "text/plain": [
       "array(['cellular', 'telephone'], dtype=object)"
      ]
     },
     "execution_count": 57,
     "metadata": {},
     "output_type": "execute_result"
    }
   ],
   "source": [
    "bank.contact.unique()"
   ]
  },
  {
   "cell_type": "code",
   "execution_count": 58,
   "metadata": {},
   "outputs": [
    {
     "data": {
      "text/plain": [
       "array(['may', 'jun', 'nov', 'sep', 'jul', 'aug', 'mar', 'oct', 'apr',\n",
       "       'dec'], dtype=object)"
      ]
     },
     "execution_count": 58,
     "metadata": {},
     "output_type": "execute_result"
    }
   ],
   "source": [
    "bank.month.unique()"
   ]
  },
  {
   "cell_type": "code",
   "execution_count": 59,
   "metadata": {},
   "outputs": [
    {
     "data": {
      "text/plain": [
       "array(['fri', 'wed', 'mon', 'thu', 'tue',\n",
       "       'thu\\xe2\\x80\\x9d;-;1;999;0;nonexistent\"'], dtype=object)"
      ]
     },
     "execution_count": 59,
     "metadata": {},
     "output_type": "execute_result"
    }
   ],
   "source": [
    "bank.day_of_week.unique()"
   ]
  },
  {
   "cell_type": "code",
   "execution_count": 60,
   "metadata": {},
   "outputs": [
    {
     "data": {
      "text/plain": [
       "(array([678], dtype=int64),)"
      ]
     },
     "execution_count": 60,
     "metadata": {},
     "output_type": "execute_result"
    }
   ],
   "source": [
    "np.where(bank.day_of_week=='thu\\xe2\\x80\\x9d;-;1;999;0;nonexistent\"')"
   ]
  },
  {
   "cell_type": "code",
   "execution_count": 61,
   "metadata": {},
   "outputs": [
    {
     "data": {
      "text/plain": [
       "age                                        39\n",
       "job                               blue-collar\n",
       "marital                               married\n",
       "education                            basic.6y\n",
       "default                                    no\n",
       "housing                                    no\n",
       "loan                                       no\n",
       "contact                             telephone\n",
       "month                                     may\n",
       "day_of_week       thu”;-;1;999;0;nonexistent\"\n",
       "duration                                  1.1\n",
       "campaign                               93.994\n",
       "pdays                                   -36.4\n",
       "previous                                4.855\n",
       "poutcome                                 5191\n",
       "emp.var.rate                              NaN\n",
       "cons.price.idx                            NaN\n",
       "cons.conf.idx                             NaN\n",
       "euribor3m                                 NaN\n",
       "nr.employed                               NaN\n",
       "y                                         NaN\n",
       "Name: 678, dtype: object"
      ]
     },
     "execution_count": 61,
     "metadata": {},
     "output_type": "execute_result"
    }
   ],
   "source": [
    "bank.loc[678]"
   ]
  },
  {
   "cell_type": "code",
   "execution_count": 62,
   "metadata": {},
   "outputs": [],
   "source": [
    "d=bank.ix[678,10:21]"
   ]
  },
  {
   "cell_type": "code",
   "execution_count": 63,
   "metadata": {},
   "outputs": [
    {
     "data": {
      "text/plain": [
       "duration             1.1\n",
       "campaign          93.994\n",
       "pdays              -36.4\n",
       "previous           4.855\n",
       "poutcome            5191\n",
       "emp.var.rate         NaN\n",
       "cons.price.idx       NaN\n",
       "cons.conf.idx        NaN\n",
       "euribor3m            NaN\n",
       "nr.employed          NaN\n",
       "y                    NaN\n",
       "Name: 678, dtype: object"
      ]
     },
     "execution_count": 63,
     "metadata": {},
     "output_type": "execute_result"
    }
   ],
   "source": [
    "d"
   ]
  },
  {
   "cell_type": "code",
   "execution_count": 64,
   "metadata": {},
   "outputs": [],
   "source": [
    "d=d.shift(6,axis=0)"
   ]
  },
  {
   "cell_type": "code",
   "execution_count": 65,
   "metadata": {},
   "outputs": [
    {
     "data": {
      "text/plain": [
       "duration             NaN\n",
       "campaign             NaN\n",
       "pdays                NaN\n",
       "previous             NaN\n",
       "poutcome             NaN\n",
       "emp.var.rate         NaN\n",
       "cons.price.idx       1.1\n",
       "cons.conf.idx     93.994\n",
       "euribor3m          -36.4\n",
       "nr.employed        4.855\n",
       "y                   5191\n",
       "Name: 678, dtype: object"
      ]
     },
     "execution_count": 65,
     "metadata": {},
     "output_type": "execute_result"
    }
   ],
   "source": [
    "d"
   ]
  },
  {
   "cell_type": "code",
   "execution_count": 66,
   "metadata": {},
   "outputs": [],
   "source": [
    "\n",
    "d.dutation='-'\n",
    "d.campaign=1\n",
    "d.pdays=999\n",
    "d.previous=0\n",
    "d.poutcome='nonexistent'\n",
    "d.y='yes'"
   ]
  },
  {
   "cell_type": "code",
   "execution_count": 67,
   "metadata": {},
   "outputs": [],
   "source": [
    "bank.ix[678,10:21]=d"
   ]
  },
  {
   "cell_type": "code",
   "execution_count": 68,
   "metadata": {},
   "outputs": [],
   "source": [
    "dd=bank.ix[678,10:21]"
   ]
  },
  {
   "cell_type": "code",
   "execution_count": 69,
   "metadata": {},
   "outputs": [
    {
     "data": {
      "text/plain": [
       "age                                        39\n",
       "job                               blue-collar\n",
       "marital                               married\n",
       "education                            basic.6y\n",
       "default                                    no\n",
       "housing                                    no\n",
       "loan                                       no\n",
       "contact                             telephone\n",
       "month                                     may\n",
       "day_of_week       thu”;-;1;999;0;nonexistent\"\n",
       "duration                                  NaN\n",
       "campaign                                    1\n",
       "pdays                                     999\n",
       "previous                                    0\n",
       "poutcome                          nonexistent\n",
       "emp.var.rate                              NaN\n",
       "cons.price.idx                            1.1\n",
       "cons.conf.idx                          93.994\n",
       "euribor3m                               -36.4\n",
       "nr.employed                             4.855\n",
       "y                                         yes\n",
       "Name: 678, dtype: object"
      ]
     },
     "execution_count": 69,
     "metadata": {},
     "output_type": "execute_result"
    }
   ],
   "source": [
    "bank.loc[678]"
   ]
  },
  {
   "cell_type": "code",
   "execution_count": 70,
   "metadata": {},
   "outputs": [],
   "source": [
    "d=bank.ix[678,9:21]"
   ]
  },
  {
   "cell_type": "code",
   "execution_count": 71,
   "metadata": {},
   "outputs": [
    {
     "data": {
      "text/plain": [
       "day_of_week       thu”;-;1;999;0;nonexistent\"\n",
       "duration                                  NaN\n",
       "campaign                                    1\n",
       "pdays                                     999\n",
       "previous                                    0\n",
       "poutcome                          nonexistent\n",
       "emp.var.rate                              NaN\n",
       "cons.price.idx                            1.1\n",
       "cons.conf.idx                          93.994\n",
       "euribor3m                               -36.4\n",
       "nr.employed                             4.855\n",
       "y                                         yes\n",
       "Name: 678, dtype: object"
      ]
     },
     "execution_count": 71,
     "metadata": {},
     "output_type": "execute_result"
    }
   ],
   "source": [
    "d"
   ]
  },
  {
   "cell_type": "code",
   "execution_count": 72,
   "metadata": {},
   "outputs": [],
   "source": [
    "d.day_of_week='thu'"
   ]
  },
  {
   "cell_type": "code",
   "execution_count": 73,
   "metadata": {},
   "outputs": [],
   "source": [
    "bank.ix[678,9:21]=d"
   ]
  },
  {
   "cell_type": "code",
   "execution_count": 74,
   "metadata": {},
   "outputs": [
    {
     "data": {
      "text/plain": [
       "age                        39\n",
       "job               blue-collar\n",
       "marital               married\n",
       "education            basic.6y\n",
       "default                    no\n",
       "housing                    no\n",
       "loan                       no\n",
       "contact             telephone\n",
       "month                     may\n",
       "day_of_week               thu\n",
       "duration                  NaN\n",
       "campaign                    1\n",
       "pdays                     999\n",
       "previous                    0\n",
       "poutcome          nonexistent\n",
       "emp.var.rate              NaN\n",
       "cons.price.idx            1.1\n",
       "cons.conf.idx          93.994\n",
       "euribor3m               -36.4\n",
       "nr.employed             4.855\n",
       "y                         yes\n",
       "Name: 678, dtype: object"
      ]
     },
     "execution_count": 74,
     "metadata": {},
     "output_type": "execute_result"
    }
   ],
   "source": [
    "bank.loc[678]"
   ]
  },
  {
   "cell_type": "code",
   "execution_count": 75,
   "metadata": {},
   "outputs": [
    {
     "data": {
      "text/plain": [
       "array(['fri', 'wed', 'mon', 'thu', 'tue'], dtype=object)"
      ]
     },
     "execution_count": 75,
     "metadata": {},
     "output_type": "execute_result"
    }
   ],
   "source": [
    "bank.day_of_week.unique()"
   ]
  },
  {
   "cell_type": "code",
   "execution_count": 76,
   "metadata": {
    "scrolled": true
   },
   "outputs": [
    {
     "data": {
      "text/plain": [
       "array([487.0, 346.0, 227.0, 17.0, 58.0, 128.0, 290.0, 44.0, 68.0, 170.0,\n",
       "       301.0, 148.0, 97.0, 211.0, 553.0, 698.0, 191.0, 59.0, 38.0, 849.0,\n",
       "       326.0, 222.0, 626.0, 119.0, 388.0, 479.0, 446.0, 127.0, 109.0,\n",
       "       113.0, 393.0, 151.0, 256.0, 42.0, 525.0, 57.0, 499.0, 84.0, 137.0,\n",
       "       31.0, 430.0, 126.0, 340.0, 412.0, 132.0, 79.0, 341.0, 157.0, 252.0,\n",
       "       263.0, 215.0, 89.0, 143.0, 40.0, 10.0, 481.0, 233.0, 204.0, 403.0,\n",
       "       180.0, 16.0, 447.0, 81.0, 361.0, 1091.0, 395.0, 432.0, 596.0, 77.0,\n",
       "       768.0, 96.0, 357.0, 459.0, 11.0, 264.0, 93.0, 374.0, 158.0, 95.0,\n",
       "       835.0, 505.0, 300.0, 390.0, 274.0, 135.0, 257.0, 268.0, 477.0,\n",
       "       91.0, 76.0, 103.0, 436.0, 483.0, 250.0, 259.0, 389.0, 7.0, 123.0,\n",
       "       92.0, 297.0, 406.0, 104.0, 854.0, 147.0, 203.0, 149.0, 144.0,\n",
       "       394.0, 523.0, 73.0, 197.0, 108.0, 80.0, 114.0, 122.0, 1161.0,\n",
       "       181.0, 239.0, 360.0, 314.0, 984.0, 663.0, 141.0, 706.0, 797.0,\n",
       "       311.0, 63.0, 111.0, 49.0, 171.0, 242.0, 279.0, 246.0, 309.0, 168.0,\n",
       "       153.0, 152.0, 90.0, 117.0, 640.0, 199.0, 1114.0, 74.0, 190.0,\n",
       "       738.0, 224.0, 344.0, 383.0, 35.0, 772.0, 124.0, 345.0, 951.0,\n",
       "       188.0, 809.0, 192.0, 154.0, 100.0, 317.0, 293.0, 30.0, 442.0,\n",
       "       187.0, 64.0, 629.0, 423.0, 888.0, 207.0, 265.0, 273.0, 85.0, 261.0,\n",
       "       136.0, 711.0, 88.0, 72.0, 307.0, 39.0, 156.0, 202.0, 353.0, 159.0,\n",
       "       347.0, 174.0, 280.0, 686.0, 94.0, 225.0, 474.0, 377.0, 185.0,\n",
       "       121.0, 160.0, 313.0, 219.0, 267.0, 228.0, 355.0, 102.0, 116.0,\n",
       "       83.0, 473.0, 605.0, 585.0, 255.0, 1868.0, 846.0, 404.0, 51.0, 87.0,\n",
       "       167.0, 440.0, 673.0, 48.0, 236.0, 288.0, 193.0, 318.0, 209.0,\n",
       "       173.0, 503.0, 101.0, 370.0, 1207.0, 262.0, 609.0, 806.0, 335.0,\n",
       "       266.0, 434.0, 82.0, 15.0, 155.0, 339.0, 206.0, 178.0, 461.0, 50.0,\n",
       "       56.0, 55.0, 142.0, 9.0, 247.0, 130.0, 336.0, 424.0, 617.0, 238.0,\n",
       "       632.0, 86.0, 165.0, 212.0, 54.0, 184.0, 6.0, 70.0, 98.0, 106.0,\n",
       "       456.0, 118.0, 241.0, 439.0, 322.0, 417.0, 498.0, 405.0, 99.0,\n",
       "       712.0, 112.0, 223.0, 133.0, 258.0, 958.0, 898.0, 282.0, 175.0,\n",
       "       235.0, 372.0, 69.0, 183.0, 270.0, 134.0, 449.0, 115.0, 205.0,\n",
       "       145.0, 548.0, 379.0, 105.0, 544.0, 401.0, 549.0, 291.0, 655.0,\n",
       "       179.0, 391.0, 750.0, 454.0, 23.0, 363.0, 775.0, 164.0, 988.0,\n",
       "       471.0, 385.0, 125.0, 886.0, 34.0, 334.0, 955.0, 545.0, 659.0,\n",
       "       230.0, 699.0, 1276.0, 251.0, 25.0, 696.0, 701.0, 342.0, 161.0,\n",
       "       275.0, 172.0, 139.0, 232.0, 131.0, 36.0, 600.0, 177.0, 217.0,\n",
       "       216.0, 329.0, 604.0, 634.0, 107.0, 245.0, 690.0, 286.0, 201.0,\n",
       "       198.0, 249.0, 226.0, 1058.0, 299.0, 441.0, 285.0, 195.0, '275',\n",
       "       292.0, '298', 1013.0, 248.0, 1319.0, 146.0, 294.0, 575.0, 237.0,\n",
       "       861.0, 618.0, 271.0, 200.0, 166.0, 367.0, 218.0, 584.0, 509.0,\n",
       "       27.0, 78.0, 162.0, 651.0, 415.0, 1149.0, 110.0, 240.0, 366.0,\n",
       "       284.0, '102', 431.0, 608.0, 244.0, 455.0, 807.0, 420.0, 182.0, nan,\n",
       "       638.0, 641.0, 21.0, 1348.0, 324.0, 331.0, 550.0, 489.0, 304.0,\n",
       "       189.0, 728.0, 278.0, 387.0, 29.0, 71.0, 767.0, 1476.0, 176.0, 52.0,\n",
       "       150.0, 32.0, 12.0, 501.0, 381.0, 482.0, 14.0, 569.0, 697.0, 581.0,\n",
       "       243.0, 229.0, 408.0, 53.0, 305.0, 316.0, 577.0, 427.0, 214.0, 19.0,\n",
       "       65.0, 281.0, 468.0, 67.0, 438.0, 582.0, 721.0, 295.0, 231.0, 221.0,\n",
       "       1170.0, 368.0, 1360.0, 433.0, 352.0, 37.0, 650.0, 289.0, 213.0,\n",
       "       22.0, 43.0, 26.0, 532.0, 75.0, 557.0, 541.0, 62.0, 5.0, 941.0,\n",
       "       422.0, 319.0, 653.0, 397.0, 1447.0, 999.0, 321.0, 1143.0, 667.0,\n",
       "       1132.0, 60.0, 396.0, 194.0, 1068.0, 337.0, 400.0, 140.0, 409.0,\n",
       "       208.0, 13.0, 458.0, 713.0, 820.0, 310.0, 587.0, 320.0, 566.0,\n",
       "       748.0, 599.0, 411.0, 1185.0, 398.0, 169.0, 272.0, 66.0, 679.0, 8.0,\n",
       "       18.0, 497.0, 1065.0, 276.0, 716.0, 20.0, 760.0, 253.0, 551.0,\n",
       "       675.0, 46.0, 484.0, 333.0, 369.0, 464.0, 362.0, 997.0, 287.0,\n",
       "       649.0, 470.0, 762.0, 591.0, 758.0, 1551.0, 480.0, 869.0, 61.0,\n",
       "       129.0, 979.0, 630.0, 234.0, 354.0, 502.0, 451.0, 296.0, 407.0,\n",
       "       120.0, 754.0, 589.0, 41.0, 514.0, 919.0, 530.0, 595.0, 526.0,\n",
       "       494.0, 24.0, 1353.0, 332.0, 1234.0, 687.0, 428.0, 488.0, 486.0,\n",
       "       413.0, 892.0, 452.0, 614.0, 749.0, 1327.0, 28.0, 47.0, 677.0,\n",
       "       643.0, 2653.0, 302.0, 570.0, 938.0, 260.0, 901.0, 138.0, 590.0,\n",
       "       546.0, 371.0, 312.0, 163.0, 328.0, 722.0, 323.0, 611.0, 539.0,\n",
       "       359.0, 671.0, 781.0, 1005.0, 303.0, 343.0, 418.0, 45.0, 419.0,\n",
       "       1148.0, 349.0, 3253.0, 606.0, 894.0, 813.0, 891.0, 210.0, 1067.0,\n",
       "       543.0, 382.0, 492.0, 1183.0, 903.0, 4.0, 375.0, 1628.0, 840.0,\n",
       "       1167.0, 386.0, 868.0, 327.0, 485.0, 506.0, 351.0, 315.0, 529.0,\n",
       "       1720.0, 533.0, 429.0, 766.0, 616.0, 1130.0, 747.0, 496.0, 2301.0,\n",
       "       460.0, 220.0, 776.0, 568.0, 448.0, 186.0, 534.0, 1334.0, 1138.0,\n",
       "       1019.0, 298.0, 364.0, 1090.0, 857.0, 269.0, 637.0, 536.0, 475.0,\n",
       "       453.0, 330.0, 338.0, 764.0, 873.0, 1176.0, 384.0, 33.0, 602.0,\n",
       "       476.0, 0.0, 689.0, 718.0, 796.0, 662.0, 799.0, 715.0, 633.0, 348.0,\n",
       "       1014.0, 700.0, 1045.0, 1152.0, 725.0, 358.0, 196.0, 493.0, 254.0,\n",
       "       742.0, 504.0, 1092.0, 399.0, 952.0, 426.0, 457.0, 3643.0, 1105.0,\n",
       "       838.0, 829.0, 565.0, 644.0, 771.0, 513.0, 646.0, 356.0, 693.0,\n",
       "       592.0, 628.0, 556.0, 769.0, 1111.0, 843.0, 668.0, 848.0, 855.0,\n",
       "       517.0, 992.0, 619.0, 867.0, 1441.0, 665.0, 1171.0, 542.0, 607.0,\n",
       "       800.0, 1150.0, 1855.0, 1203.0, 723.0, 308.0, 823.0, 1076.0, 837.0,\n",
       "       780.0, 789.0, 1002.0, 578.0, 507.0, 508.0, 567.0, 421.0, 1241.0,\n",
       "       373.0, 571.0, 469.0, 527.0, 588.0, 645.0, 1221.0, 704.0, 378.0,\n",
       "       1127.0, 818.0, 1062.0, 562.0, 825.0, 435.0, 802.0, 531.0, 306.0,\n",
       "       739.0, 365.0, 325.0, 1432.0, 1806.0, 1046.0, 674.0, 740.0, 1119.0,\n",
       "       636.0, 1357.0, 414.0, 727.0, 1009.0, 283.0, 1011.0, 511.0, 1186.0,\n",
       "       402.0, 519.0, 490.0, 683.0, 688.0, 1340.0, 472.0, 882.0, 520.0,\n",
       "       515.0, 1332.0, 1820.0, 1311.0, 559.0, 1365.0, 1980.0, 410.0, 895.0,\n",
       "       1190.0, 784.0, 376.0, 521.0, 834.0, 450.0, 1128.0, 516.0, 770.0,\n",
       "       1074.0, 1259.0, 1422.0, 1300.0, 1135.0, 624.0, 540.0, 657.0, 627.0,\n",
       "       681.0, 491.0, 705.0, 597.0, 1298.0, 1438.0, 277.0, 1087.0, 782.0,\n",
       "       416.0, 1288.0, 1424.0, 720.0, 726.0, 537.0, 996.0, 815.0, 805.0,\n",
       "       1468.0, 801.0, 495.0, 463.0, 814.0, 350.0, 702.0, 623.0, 980.0,\n",
       "       1195.0, 478.0, 881.0, 445.0, 658.0, 528.0, 522.0, 1012.0, 1590.0,\n",
       "       621.0, 1602.0, 757.0, 593.0, 879.0, 580.0, 620.0, 1386.0],\n",
       "      dtype=object)"
      ]
     },
     "execution_count": 76,
     "metadata": {},
     "output_type": "execute_result"
    }
   ],
   "source": [
    "bank.duration.unique()"
   ]
  },
  {
   "cell_type": "code",
   "execution_count": 77,
   "metadata": {},
   "outputs": [
    {
     "name": "stderr",
     "output_type": "stream",
     "text": [
      "C:\\Users\\jayar\\Anaconda2\\lib\\site-packages\\ipykernel_launcher.py:1: FutureWarning: convert_objects is deprecated.  To re-infer data dtypes for object columns, use Series.infer_objects()\n",
      "For all other conversions use the data-type specific converters pd.to_datetime, pd.to_timedelta and pd.to_numeric.\n",
      "  \"\"\"Entry point for launching an IPython kernel.\n"
     ]
    }
   ],
   "source": [
    "bank['pdays'] = bank['pdays'].convert_objects(convert_numeric=True)"
   ]
  },
  {
   "cell_type": "code",
   "execution_count": 78,
   "metadata": {},
   "outputs": [
    {
     "name": "stderr",
     "output_type": "stream",
     "text": [
      "C:\\Users\\jayar\\Anaconda2\\lib\\site-packages\\ipykernel_launcher.py:1: FutureWarning: convert_objects is deprecated.  To re-infer data dtypes for object columns, use Series.infer_objects()\n",
      "For all other conversions use the data-type specific converters pd.to_datetime, pd.to_timedelta and pd.to_numeric.\n",
      "  \"\"\"Entry point for launching an IPython kernel.\n"
     ]
    }
   ],
   "source": [
    "bank['duration'] = bank['duration'].convert_objects(convert_numeric=True)"
   ]
  },
  {
   "cell_type": "code",
   "execution_count": 79,
   "metadata": {},
   "outputs": [],
   "source": [
    "bank['duration'].fillna(bank['duration'].mean(axis=0),inplace=True)"
   ]
  },
  {
   "cell_type": "code",
   "execution_count": 80,
   "metadata": {},
   "outputs": [
    {
     "name": "stderr",
     "output_type": "stream",
     "text": [
      "C:\\Users\\jayar\\Anaconda2\\lib\\site-packages\\ipykernel_launcher.py:1: FutureWarning: convert_objects is deprecated.  To re-infer data dtypes for object columns, use Series.infer_objects()\n",
      "For all other conversions use the data-type specific converters pd.to_datetime, pd.to_timedelta and pd.to_numeric.\n",
      "  \"\"\"Entry point for launching an IPython kernel.\n"
     ]
    }
   ],
   "source": [
    "bank['campaign'] = bank['campaign'].convert_objects(convert_numeric=True)"
   ]
  },
  {
   "cell_type": "code",
   "execution_count": 81,
   "metadata": {},
   "outputs": [
    {
     "name": "stderr",
     "output_type": "stream",
     "text": [
      "C:\\Users\\jayar\\Anaconda2\\lib\\site-packages\\ipykernel_launcher.py:1: FutureWarning: convert_objects is deprecated.  To re-infer data dtypes for object columns, use Series.infer_objects()\n",
      "For all other conversions use the data-type specific converters pd.to_datetime, pd.to_timedelta and pd.to_numeric.\n",
      "  \"\"\"Entry point for launching an IPython kernel.\n"
     ]
    }
   ],
   "source": [
    "bank['emp.var.rate'] = bank['emp.var.rate'].convert_objects(convert_numeric=True)"
   ]
  },
  {
   "cell_type": "code",
   "execution_count": 82,
   "metadata": {},
   "outputs": [
    {
     "data": {
      "text/plain": [
       "array([ 2.,  4.,  1.,  3.,  6.,  7., 27.,  5., 12., 14., 10.,  8., 11.,\n",
       "       13.,  9., 15., 16., 18., 17., 22., 19., 23., 24., 35., 29.])"
      ]
     },
     "execution_count": 82,
     "metadata": {},
     "output_type": "execute_result"
    }
   ],
   "source": [
    "bank.campaign.unique()"
   ]
  },
  {
   "cell_type": "code",
   "execution_count": 83,
   "metadata": {},
   "outputs": [
    {
     "data": {
      "text/plain": [
       "array([999.,  12.,   3.,   6.,   5.,   2.,  10.,  11.,   7.,   1.,  18.,\n",
       "         4.,  15.,   0.,  16.,   9.,  19.,  17.,  13.,  21.,  14.])"
      ]
     },
     "execution_count": 83,
     "metadata": {},
     "output_type": "execute_result"
    }
   ],
   "source": [
    "bank.pdays.unique()"
   ]
  },
  {
   "cell_type": "code",
   "execution_count": 84,
   "metadata": {},
   "outputs": [
    {
     "data": {
      "text/plain": [
       "array([0., 2., 1., 3., 5., 4., 6.])"
      ]
     },
     "execution_count": 84,
     "metadata": {},
     "output_type": "execute_result"
    }
   ],
   "source": [
    "bank.previous.unique()"
   ]
  },
  {
   "cell_type": "code",
   "execution_count": 85,
   "metadata": {},
   "outputs": [
    {
     "data": {
      "text/plain": [
       "array(['nonexistent', 'failure', 'success', nan], dtype=object)"
      ]
     },
     "execution_count": 85,
     "metadata": {},
     "output_type": "execute_result"
    }
   ],
   "source": [
    "bank.poutcome.unique()"
   ]
  },
  {
   "cell_type": "code",
   "execution_count": 86,
   "metadata": {},
   "outputs": [],
   "source": [
    "bank_columns=bank.columns[12:20]"
   ]
  },
  {
   "cell_type": "code",
   "execution_count": 87,
   "metadata": {},
   "outputs": [
    {
     "data": {
      "text/plain": [
       "Index([u'pdays', u'previous', u'poutcome', u'emp.var.rate', u'cons.price.idx',\n",
       "       u'cons.conf.idx', u'euribor3m', u'nr.employed'],\n",
       "      dtype='object')"
      ]
     },
     "execution_count": 87,
     "metadata": {},
     "output_type": "execute_result"
    }
   ],
   "source": [
    "bank_columns"
   ]
  },
  {
   "cell_type": "code",
   "execution_count": 88,
   "metadata": {},
   "outputs": [
    {
     "name": "stdout",
     "output_type": "stream",
     "text": [
      "pdays\n",
      "[999.  12.   3.   6.   5.   2.  10.  11.   7.   1.  18.   4.  15.   0.\n",
      "  16.   9.  19.  17.  13.  21.  14.]\n",
      "previous\n",
      "[0. 2. 1. 3. 5. 4. 6.]\n",
      "poutcome\n",
      "['nonexistent' 'failure' 'success' nan]\n",
      "emp.var.rate\n",
      "[-1.8  1.1  1.4 -0.1 -1.1 -2.9 -1.7 -3.4  nan -3.  -0.2]\n",
      "cons.price.idx\n",
      "[92.89299999999999 93.994 94.465 93.2 94.199 93.91799999999999 93.444\n",
      " 93.369 92.84299999999999 92.963 94.601 94.027 92.37899999999999 92.431\n",
      " 93.749 93.075 nan 94.055 92.469 94.76700000000001 92.20100000000001\n",
      " 92.649 94.215 93.876 93.79799999999999 '93.918' 1.1 92.713 92.756]\n",
      "cons.conf.idx\n",
      "[-46.2   -36.4   -41.8   -42.    -37.5   -42.7   -36.1   -34.8   -50.\n",
      " -40.8   -49.5   -38.3   -29.8   -26.9   -34.6   -47.1   -39.8   -33.6\n",
      " -50.8   -31.4   -30.1   -40.3   -40.    -40.4    93.994 -33.    -45.9  ]\n",
      "euribor3m\n",
      "[  1.313   4.855   4.962   4.959   4.191   0.884   0.879   4.153   4.958\n",
      "   4.968   4.859   4.963   4.957   4.965   4.961   0.639   4.967   4.864\n",
      "   4.856   1.299   4.86    1.687   4.865   1.268   4.12    1.334   0.977\n",
      "   1.344   0.899     nan   1.327   4.592   4.97    1.26    4.966   0.77\n",
      "   4.866   4.964   4.857   0.886   0.739   0.654   1.405   1.281   4.96\n",
      "   0.754   1.291   1.365   4.076   1.266   1.41    1.25    4.858   0.702\n",
      "   1.029   1.085   1.392   1.262   1.05    0.851   0.716   0.877   0.835\n",
      "   1.048   0.904   1.028   0.637   1.244   1.354   4.021   1.453   0.715\n",
      "   1.778   0.773   1.035   0.9     0.898   0.742   0.861   1.264   0.704\n",
      "   1.27    0.695   1.039   1.531   0.883   0.748   0.809   4.794   1.479\n",
      "   0.697   0.959   1.032   0.896   0.827   1.483   0.905   1.466   0.714\n",
      "   0.644   0.849   0.881   0.834   0.645   0.659   0.885   1.041 -36.4\n",
      "   0.942   0.737   4.947   0.722   1.049   1.415   0.797   0.699   0.81\n",
      "   0.71    1.423   0.707   0.646   1.043   4.955   0.668   0.825   1.435\n",
      "   0.72    0.767   0.982   1.602   1.259   1.811   0.859   1.224   0.876\n",
      "   0.878   1.099   0.788   0.717   0.838   0.64    0.762   1.663   0.73\n",
      "   0.728   1.372   0.782   4.245   1.51    3.329   0.749   4.343   0.893\n",
      "   0.731   0.635   0.7     0.889   0.649   0.873   1.445   1.629   0.944\n",
      "   3.853   0.87    0.79    5.045   0.914   0.719   0.735   1.498   0.677\n",
      "   0.819   0.652   0.692   0.829   1.726   1.406   0.761   0.846   1.252\n",
      "   4.956   0.953   0.803   0.937   0.706   0.869   1.703   0.729   0.709\n",
      "   1.046   0.752   0.921   4.921   0.987   1.03    1.031   0.741   0.843\n",
      "   1.044   0.643   0.755   0.724   0.882   1.757   1.215   0.74    0.683\n",
      "   1.52    4.663   1.059   0.636   0.771   0.655   1.4     0.65    1.384\n",
      "   0.778   0.682   1.614   1.04    1.538   1.072   1.      1.799   1.64\n",
      "   1.65    0.642   0.718   0.768   0.723   0.996   0.721   0.672   0.854\n",
      "   1.016   0.965]\n",
      "nr.employed\n",
      "[5.0991e+03 5.1910e+03 5.2281e+03 5.1958e+03 4.9636e+03        nan\n",
      " 5.0762e+03 4.9916e+03 5.0175e+03 5.0087e+03 4.8550e+00 5.0235e+03\n",
      " 5.1763e+03]\n"
     ]
    }
   ],
   "source": [
    "for i in list(bank_columns):\n",
    "    print(i)\n",
    "    print(bank[i].unique())"
   ]
  },
  {
   "cell_type": "code",
   "execution_count": 89,
   "metadata": {
    "scrolled": false
   },
   "outputs": [
    {
     "name": "stderr",
     "output_type": "stream",
     "text": [
      "C:\\Users\\jayar\\Anaconda2\\lib\\site-packages\\ipykernel_launcher.py:1: FutureWarning: convert_objects is deprecated.  To re-infer data dtypes for object columns, use Series.infer_objects()\n",
      "For all other conversions use the data-type specific converters pd.to_datetime, pd.to_timedelta and pd.to_numeric.\n",
      "  \"\"\"Entry point for launching an IPython kernel.\n"
     ]
    }
   ],
   "source": [
    "bank['cons.price.idx'] = bank['cons.price.idx'].convert_objects(convert_numeric=True)"
   ]
  },
  {
   "cell_type": "code",
   "execution_count": 90,
   "metadata": {
    "scrolled": true
   },
   "outputs": [
    {
     "data": {
      "text/plain": [
       "0       92.893\n",
       "1       93.994\n",
       "2       94.465\n",
       "3       94.465\n",
       "4       93.200\n",
       "5       94.199\n",
       "6       94.199\n",
       "7       93.200\n",
       "8       93.200\n",
       "9       93.994\n",
       "10      93.918\n",
       "11      93.918\n",
       "12      93.994\n",
       "13      94.465\n",
       "14      92.893\n",
       "15      93.918\n",
       "16      93.918\n",
       "17      93.918\n",
       "18      93.444\n",
       "19      93.918\n",
       "20      93.918\n",
       "21      93.369\n",
       "22      93.444\n",
       "23      93.444\n",
       "24      93.994\n",
       "25      93.444\n",
       "26      93.994\n",
       "27      92.893\n",
       "28      93.994\n",
       "29      93.444\n",
       "         ...  \n",
       "4089    92.431\n",
       "4090    93.994\n",
       "4091    93.994\n",
       "4092    93.918\n",
       "4093    93.918\n",
       "4094    92.649\n",
       "4095    93.444\n",
       "4096    93.994\n",
       "4097    93.444\n",
       "4098    93.444\n",
       "4099    93.444\n",
       "4100    93.075\n",
       "4101    93.918\n",
       "4102    94.465\n",
       "4103    93.994\n",
       "4104    93.444\n",
       "4105    93.918\n",
       "4106    92.893\n",
       "4107    93.444\n",
       "4108    92.893\n",
       "4109    92.431\n",
       "4110    93.994\n",
       "4111    94.055\n",
       "4112    93.200\n",
       "4113    93.200\n",
       "4114    93.918\n",
       "4115    93.918\n",
       "4116    92.893\n",
       "4117    93.444\n",
       "4118    93.200\n",
       "Name: cons.price.idx, Length: 4119, dtype: float64"
      ]
     },
     "execution_count": 90,
     "metadata": {},
     "output_type": "execute_result"
    }
   ],
   "source": [
    "bank['cons.price.idx']"
   ]
  },
  {
   "cell_type": "code",
   "execution_count": 91,
   "metadata": {},
   "outputs": [
    {
     "data": {
      "text/plain": [
       "array(['no', 'yes', nan], dtype=object)"
      ]
     },
     "execution_count": 91,
     "metadata": {},
     "output_type": "execute_result"
    }
   ],
   "source": [
    "bank.y.unique()"
   ]
  },
  {
   "cell_type": "code",
   "execution_count": null,
   "metadata": {},
   "outputs": [],
   "source": []
  },
  {
   "cell_type": "code",
   "execution_count": 92,
   "metadata": {
    "scrolled": true
   },
   "outputs": [
    {
     "data": {
      "text/plain": [
       "array([ 30.,  39.,  25.,  38.,  47.,  32.,  41.,  31.,  35.,  36.,  29.,\n",
       "        27.,  44.,  46.,  45.,  50.,  55.,  40.,  28.,  34.,  33.,  51.,\n",
       "        48.,  nan,  20.,  76.,  56.,  24.,  58.,  60.,  37.,  52.,  42.,\n",
       "        49.,  54.,  59.,  57.,  43.,  53.,  75.,  82.,  71.,  21.,  22.,\n",
       "        23.,  26.,  81., 143., 250.,  61.,  67.,  73.,  18.,  64.,  74.,\n",
       "        77.,  86.,  85.,  63.,  88.,  78.,  72.,  68.,  80.,  66.,  19.,\n",
       "        62.,  65.,  69.,  70.])"
      ]
     },
     "execution_count": 92,
     "metadata": {},
     "output_type": "execute_result"
    }
   ],
   "source": [
    "bank.age.unique()"
   ]
  },
  {
   "cell_type": "code",
   "execution_count": 93,
   "metadata": {},
   "outputs": [],
   "source": [
    "bank=bank[(bank['age'] >=18) & (bank['age'] <=99) ]"
   ]
  },
  {
   "cell_type": "code",
   "execution_count": null,
   "metadata": {},
   "outputs": [],
   "source": []
  },
  {
   "cell_type": "code",
   "execution_count": 94,
   "metadata": {},
   "outputs": [
    {
     "data": {
      "text/plain": [
       "array([30., 39., 25., 38., 47., 32., 41., 31., 35., 36., 29., 27., 44.,\n",
       "       46., 45., 50., 55., 40., 28., 34., 33., 51., 48., 20., 76., 56.,\n",
       "       24., 58., 60., 37., 52., 42., 49., 54., 59., 57., 43., 53., 75.,\n",
       "       82., 71., 21., 22., 23., 26., 81., 61., 67., 73., 18., 64., 74.,\n",
       "       77., 86., 85., 63., 88., 78., 72., 68., 80., 66., 19., 62., 65.,\n",
       "       69., 70.])"
      ]
     },
     "execution_count": 94,
     "metadata": {},
     "output_type": "execute_result"
    }
   ],
   "source": [
    "bank.age.unique()"
   ]
  },
  {
   "cell_type": "code",
   "execution_count": 95,
   "metadata": {},
   "outputs": [
    {
     "data": {
      "text/plain": [
       "age               float64\n",
       "job                object\n",
       "marital            object\n",
       "education          object\n",
       "default            object\n",
       "housing            object\n",
       "loan               object\n",
       "contact            object\n",
       "month              object\n",
       "day_of_week        object\n",
       "duration          float64\n",
       "campaign          float64\n",
       "pdays             float64\n",
       "previous          float64\n",
       "poutcome           object\n",
       "emp.var.rate      float64\n",
       "cons.price.idx    float64\n",
       "cons.conf.idx     float64\n",
       "euribor3m         float64\n",
       "nr.employed       float64\n",
       "y                  object\n",
       "dtype: object"
      ]
     },
     "execution_count": 95,
     "metadata": {},
     "output_type": "execute_result"
    }
   ],
   "source": [
    "bank.dtypes"
   ]
  },
  {
   "cell_type": "code",
   "execution_count": 96,
   "metadata": {},
   "outputs": [
    {
     "data": {
      "text/plain": [
       "array(['no', 'unknown', 'yes'], dtype=object)"
      ]
     },
     "execution_count": 96,
     "metadata": {},
     "output_type": "execute_result"
    }
   ],
   "source": [
    "bank.default.unique()"
   ]
  },
  {
   "cell_type": "code",
   "execution_count": 97,
   "metadata": {},
   "outputs": [
    {
     "data": {
      "text/plain": [
       "array(['yes', 'no', 'unknown'], dtype=object)"
      ]
     },
     "execution_count": 97,
     "metadata": {},
     "output_type": "execute_result"
    }
   ],
   "source": [
    "bank.housing.unique()"
   ]
  },
  {
   "cell_type": "code",
   "execution_count": 98,
   "metadata": {},
   "outputs": [
    {
     "data": {
      "text/plain": [
       "array(['no', 'unknown', 'yes'], dtype=object)"
      ]
     },
     "execution_count": 98,
     "metadata": {},
     "output_type": "execute_result"
    }
   ],
   "source": [
    "bank.loan.unique()"
   ]
  },
  {
   "cell_type": "code",
   "execution_count": 99,
   "metadata": {},
   "outputs": [
    {
     "data": {
      "text/plain": [
       "array(['cellular', 'telephone'], dtype=object)"
      ]
     },
     "execution_count": 99,
     "metadata": {},
     "output_type": "execute_result"
    }
   ],
   "source": [
    "bank.contact.unique()"
   ]
  },
  {
   "cell_type": "code",
   "execution_count": 100,
   "metadata": {},
   "outputs": [
    {
     "data": {
      "text/html": [
       "<div>\n",
       "<style scoped>\n",
       "    .dataframe tbody tr th:only-of-type {\n",
       "        vertical-align: middle;\n",
       "    }\n",
       "\n",
       "    .dataframe tbody tr th {\n",
       "        vertical-align: top;\n",
       "    }\n",
       "\n",
       "    .dataframe thead th {\n",
       "        text-align: right;\n",
       "    }\n",
       "</style>\n",
       "<table border=\"1\" class=\"dataframe\">\n",
       "  <thead>\n",
       "    <tr style=\"text-align: right;\">\n",
       "      <th></th>\n",
       "      <th>duration</th>\n",
       "      <th>y</th>\n",
       "    </tr>\n",
       "  </thead>\n",
       "  <tbody>\n",
       "    <tr>\n",
       "      <th>1950</th>\n",
       "      <td>0.0</td>\n",
       "      <td>no</td>\n",
       "    </tr>\n",
       "  </tbody>\n",
       "</table>\n",
       "</div>"
      ],
      "text/plain": [
       "      duration   y\n",
       "1950       0.0  no"
      ]
     },
     "execution_count": 100,
     "metadata": {},
     "output_type": "execute_result"
    }
   ],
   "source": [
    " bank[['duration', 'y']][bank.duration == 0]"
   ]
  },
  {
   "cell_type": "code",
   "execution_count": 101,
   "metadata": {},
   "outputs": [
    {
     "data": {
      "text/plain": [
       "array([999.,  12.,   3.,   6.,   5.,   2.,  10.,  11.,   7.,   1.,  18.,\n",
       "         4.,  15.,   0.,  16.,   9.,  19.,  17.,  13.,  21.,  14.])"
      ]
     },
     "execution_count": 101,
     "metadata": {},
     "output_type": "execute_result"
    }
   ],
   "source": [
    "bank.pdays.unique()"
   ]
  },
  {
   "cell_type": "code",
   "execution_count": 102,
   "metadata": {},
   "outputs": [
    {
     "name": "stderr",
     "output_type": "stream",
     "text": [
      "C:\\Users\\jayar\\Anaconda2\\lib\\site-packages\\ipykernel_launcher.py:1: DeprecationWarning: \n",
      ".ix is deprecated. Please use\n",
      ".loc for label based indexing or\n",
      ".iloc for positional indexing\n",
      "\n",
      "See the documentation here:\n",
      "http://pandas.pydata.org/pandas-docs/stable/indexing.html#ix-indexer-is-deprecated\n",
      "  \"\"\"Entry point for launching an IPython kernel.\n"
     ]
    },
    {
     "data": {
      "text/html": [
       "<div>\n",
       "<style scoped>\n",
       "    .dataframe tbody tr th:only-of-type {\n",
       "        vertical-align: middle;\n",
       "    }\n",
       "\n",
       "    .dataframe tbody tr th {\n",
       "        vertical-align: top;\n",
       "    }\n",
       "\n",
       "    .dataframe thead th {\n",
       "        text-align: right;\n",
       "    }\n",
       "</style>\n",
       "<table border=\"1\" class=\"dataframe\">\n",
       "  <thead>\n",
       "    <tr style=\"text-align: right;\">\n",
       "      <th></th>\n",
       "      <th>age</th>\n",
       "      <th>job</th>\n",
       "      <th>marital</th>\n",
       "      <th>education</th>\n",
       "      <th>default</th>\n",
       "      <th>housing</th>\n",
       "      <th>loan</th>\n",
       "      <th>contact</th>\n",
       "      <th>month</th>\n",
       "      <th>day_of_week</th>\n",
       "      <th>...</th>\n",
       "      <th>campaign</th>\n",
       "      <th>pdays</th>\n",
       "      <th>previous</th>\n",
       "      <th>poutcome</th>\n",
       "      <th>emp.var.rate</th>\n",
       "      <th>cons.price.idx</th>\n",
       "      <th>cons.conf.idx</th>\n",
       "      <th>euribor3m</th>\n",
       "      <th>nr.employed</th>\n",
       "      <th>y</th>\n",
       "    </tr>\n",
       "  </thead>\n",
       "  <tbody>\n",
       "    <tr>\n",
       "      <th>1046</th>\n",
       "      <td>48.0</td>\n",
       "      <td>admin</td>\n",
       "      <td>married</td>\n",
       "      <td>university.degree</td>\n",
       "      <td>no</td>\n",
       "      <td>yes</td>\n",
       "      <td>yes</td>\n",
       "      <td>cellular</td>\n",
       "      <td>aug</td>\n",
       "      <td>wed</td>\n",
       "      <td>...</td>\n",
       "      <td>1.0</td>\n",
       "      <td>0.0</td>\n",
       "      <td>3.0</td>\n",
       "      <td>success</td>\n",
       "      <td>-1.7</td>\n",
       "      <td>94.027</td>\n",
       "      <td>-38.3</td>\n",
       "      <td>0.9</td>\n",
       "      <td>4991.6</td>\n",
       "      <td>yes</td>\n",
       "    </tr>\n",
       "    <tr>\n",
       "      <th>3127</th>\n",
       "      <td>44.0</td>\n",
       "      <td>services</td>\n",
       "      <td>divorced</td>\n",
       "      <td>basic.6y</td>\n",
       "      <td>no</td>\n",
       "      <td>yes</td>\n",
       "      <td>no</td>\n",
       "      <td>cellular</td>\n",
       "      <td>aug</td>\n",
       "      <td>wed</td>\n",
       "      <td>...</td>\n",
       "      <td>3.0</td>\n",
       "      <td>0.0</td>\n",
       "      <td>1.0</td>\n",
       "      <td>success</td>\n",
       "      <td>-1.7</td>\n",
       "      <td>94.027</td>\n",
       "      <td>-38.3</td>\n",
       "      <td>0.9</td>\n",
       "      <td>4991.6</td>\n",
       "      <td>yes</td>\n",
       "    </tr>\n",
       "  </tbody>\n",
       "</table>\n",
       "<p>2 rows × 21 columns</p>\n",
       "</div>"
      ],
      "text/plain": [
       "       age       job   marital          education default housing loan  \\\n",
       "1046  48.0     admin   married  university.degree      no     yes  yes   \n",
       "3127  44.0  services  divorced           basic.6y      no     yes   no   \n",
       "\n",
       "       contact month day_of_week ...   campaign  pdays  previous  poutcome  \\\n",
       "1046  cellular   aug         wed ...        1.0    0.0       3.0   success   \n",
       "3127  cellular   aug         wed ...        3.0    0.0       1.0   success   \n",
       "\n",
       "     emp.var.rate  cons.price.idx  cons.conf.idx  euribor3m  nr.employed    y  \n",
       "1046         -1.7          94.027          -38.3        0.9       4991.6  yes  \n",
       "3127         -1.7          94.027          -38.3        0.9       4991.6  yes  \n",
       "\n",
       "[2 rows x 21 columns]"
      ]
     },
     "execution_count": 102,
     "metadata": {},
     "output_type": "execute_result"
    }
   ],
   "source": [
    " bank.ix[~(bank['pdays']>0)]"
   ]
  },
  {
   "cell_type": "code",
   "execution_count": 103,
   "metadata": {},
   "outputs": [
    {
     "data": {
      "text/plain": [
       "array([999.,  12.,   3.,   6.,   5.,   2.,  10.,  11.,   7.,   1.,  18.,\n",
       "         4.,  15.,   0.,  16.,   9.,  19.,  17.,  13.,  21.,  14.])"
      ]
     },
     "execution_count": 103,
     "metadata": {},
     "output_type": "execute_result"
    }
   ],
   "source": [
    "bank.pdays.unique()"
   ]
  },
  {
   "cell_type": "code",
   "execution_count": 104,
   "metadata": {},
   "outputs": [],
   "source": [
    "bank=bank[(bank['pdays'] >0)  ]"
   ]
  },
  {
   "cell_type": "code",
   "execution_count": 105,
   "metadata": {},
   "outputs": [
    {
     "data": {
      "text/plain": [
       "array([999.,  12.,   3.,   6.,   5.,   2.,  10.,  11.,   7.,   1.,  18.,\n",
       "         4.,  15.,  16.,   9.,  19.,  17.,  13.,  21.,  14.])"
      ]
     },
     "execution_count": 105,
     "metadata": {},
     "output_type": "execute_result"
    }
   ],
   "source": [
    "bank.pdays.unique()"
   ]
  },
  {
   "cell_type": "code",
   "execution_count": 106,
   "metadata": {},
   "outputs": [
    {
     "data": {
      "text/plain": [
       "array(['no', 'yes', nan], dtype=object)"
      ]
     },
     "execution_count": 106,
     "metadata": {},
     "output_type": "execute_result"
    }
   ],
   "source": [
    "bank.y.unique()"
   ]
  },
  {
   "cell_type": "code",
   "execution_count": 107,
   "metadata": {},
   "outputs": [],
   "source": [
    "bank=bank[(bank['pdays'] >0)  ]"
   ]
  },
  {
   "cell_type": "code",
   "execution_count": 108,
   "metadata": {},
   "outputs": [],
   "source": [
    "bank.dropna(axis =0,subset = ['y'], inplace=True)"
   ]
  },
  {
   "cell_type": "code",
   "execution_count": 109,
   "metadata": {},
   "outputs": [],
   "source": [
    "bank.dropna(axis =0,subset =['poutcome'], inplace=True)"
   ]
  },
  {
   "cell_type": "code",
   "execution_count": 110,
   "metadata": {},
   "outputs": [],
   "source": [
    "bank.dropna(axis =0,subset =['nr.employed'], inplace=True)"
   ]
  },
  {
   "cell_type": "code",
   "execution_count": 111,
   "metadata": {},
   "outputs": [
    {
     "data": {
      "text/plain": [
       "array(['no', 'yes'], dtype=object)"
      ]
     },
     "execution_count": 111,
     "metadata": {},
     "output_type": "execute_result"
    }
   ],
   "source": [
    "bank.y.unique()"
   ]
  },
  {
   "cell_type": "code",
   "execution_count": 112,
   "metadata": {},
   "outputs": [],
   "source": [
    "bank['emp.var.rate'].fillna(bank['emp.var.rate'].mean(axis=0),inplace=True)"
   ]
  },
  {
   "cell_type": "code",
   "execution_count": 113,
   "metadata": {},
   "outputs": [],
   "source": [
    "bank=bank[(bank['cons.price.idx'] <=100) & (bank['cons.price.idx'] >=80) ]"
   ]
  },
  {
   "cell_type": "code",
   "execution_count": 114,
   "metadata": {},
   "outputs": [],
   "source": [
    "bank=bank[(bank['euribor3m'] >0)  ]"
   ]
  },
  {
   "cell_type": "code",
   "execution_count": 115,
   "metadata": {},
   "outputs": [],
   "source": [
    "bank['euribor3m'].fillna(bank['euribor3m'].mean(axis=0),inplace=True)"
   ]
  },
  {
   "cell_type": "code",
   "execution_count": 116,
   "metadata": {},
   "outputs": [],
   "source": [
    "t=bank['marital'].str.isspace()"
   ]
  },
  {
   "cell_type": "code",
   "execution_count": 117,
   "metadata": {},
   "outputs": [
    {
     "data": {
      "text/plain": [
       "age                        25\n",
       "job                  services\n",
       "marital               married\n",
       "education         high.school\n",
       "default                    no\n",
       "housing                   yes\n",
       "loan                       no\n",
       "contact             telephone\n",
       "month                     jun\n",
       "day_of_week               wed\n",
       "duration                  227\n",
       "campaign                    1\n",
       "pdays                     999\n",
       "previous                    0\n",
       "poutcome          nonexistent\n",
       "emp.var.rate              1.4\n",
       "cons.price.idx         94.465\n",
       "cons.conf.idx           -41.8\n",
       "euribor3m               4.962\n",
       "nr.employed            5228.1\n",
       "y                          no\n",
       "Name: 2, dtype: object"
      ]
     },
     "execution_count": 117,
     "metadata": {},
     "output_type": "execute_result"
    }
   ],
   "source": [
    "bank.loc[2]"
   ]
  },
  {
   "cell_type": "code",
   "execution_count": 118,
   "metadata": {},
   "outputs": [],
   "source": [
    "bank=bank[(bank['job'] !='unknown')  ]"
   ]
  },
  {
   "cell_type": "code",
   "execution_count": 119,
   "metadata": {},
   "outputs": [
    {
     "data": {
      "text/plain": [
       "['bank', 'loan', 'marital', 'education']"
      ]
     },
     "execution_count": 119,
     "metadata": {},
     "output_type": "execute_result"
    }
   ],
   "source": [
    "words =['BANK','LOAN','MARITAL','EDuCatioN',]\n",
    "list(map(str.lower, words))"
   ]
  },
  {
   "cell_type": "code",
   "execution_count": 120,
   "metadata": {},
   "outputs": [
    {
     "data": {
      "text/plain": [
       "['BANK', 'LOAN', 'EDUCATION', 'DEFAULT']"
      ]
     },
     "execution_count": 120,
     "metadata": {},
     "output_type": "execute_result"
    }
   ],
   "source": [
    "words =['BANK','LOAN','EDuCatioN','DefaULT']\n",
    "list(map(str.upper, words))\n"
   ]
  },
  {
   "cell_type": "code",
   "execution_count": 121,
   "metadata": {},
   "outputs": [
    {
     "name": "stdout",
     "output_type": "stream",
     "text": [
      "Bank\n"
     ]
    }
   ],
   "source": [
    "a=\"BANK\"\n",
    "result = a[:1] + a[1:].lower() \n",
    "print(result)"
   ]
  },
  {
   "cell_type": "code",
   "execution_count": 122,
   "metadata": {},
   "outputs": [
    {
     "name": "stdout",
     "output_type": "stream",
     "text": [
      "Bank\n"
     ]
    }
   ],
   "source": [
    "a=\"bank\"\n",
    "result = a[:1].upper() + a[1:]\n",
    "print(result)"
   ]
  },
  {
   "cell_type": "code",
   "execution_count": 123,
   "metadata": {},
   "outputs": [],
   "source": [
    "bank.to_csv('cleanedbank.csv', sep=';' , decimal='.')"
   ]
  }
 ],
 "metadata": {
  "kernelspec": {
   "display_name": "Python 3",
   "language": "python",
   "name": "python3"
  },
  "language_info": {
   "codemirror_mode": {
    "name": "ipython",
    "version": 3
   },
   "file_extension": ".py",
   "mimetype": "text/x-python",
   "name": "python",
   "nbconvert_exporter": "python",
   "pygments_lexer": "ipython3",
   "version": "3.6.4"
  }
 },
 "nbformat": 4,
 "nbformat_minor": 2
}
